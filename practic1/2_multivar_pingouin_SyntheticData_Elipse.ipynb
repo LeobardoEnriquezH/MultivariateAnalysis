{
 "cells": [
  {
   "cell_type": "markdown",
   "metadata": {
    "id": "1UFe1CKv3nn5"
   },
   "source": [
    "**2.-** El archivo lagartijas.csv contiene mediciones de 25 lagartijas de la especie Cophasaurus texanus. Donde:\n",
    "\n",
    "• Mass: Es el peso en gramos.\n",
    "\n",
    "• SVL: Es la longitud de la cola a la nariz.\n",
    "\n",
    "• HLS: Es la longitud de la pata posterior.\n",
    "\n",
    "El científico supone que las medidas que el ha obtenido son suficientes para saber si hay diferencias significativas entre los especímenes del sexo masculino y femenino. El problema es que son muy pocos datos pues un muestreo de esta especie de animales resulta complicado. Para solventar esto siga los siguientes pasos:\n",
    "\n",
    "a) Realice un análisis descriptivo multivariado de las medidas tomadas por el científico incluyendo covarianzas, correlaciones, vector de medias y una matriz de dispersiones diferenciando por hembras y machos. Luego use el paquete de python pingouin para aplicar una prueba de bondad de ajuste para la normal\n",
    "multivariada, por macho y hembras por separados. Mas abajo se deja la liga con la documentación del\n",
    "paquete.\n",
    "\n",
    "b) Sea $z=(Z_1,...,Z_p) \\in \\mathbb{R^p}$ un vector aleatorio tal que $Z_i \\sim N(0,1)$.  Mostrar que si queremos producir un vector aleatorio $z\\sim N_p(\\mu , \\Sigma)$ a partir de $z$ entonces le debemos aplicar la siguiente transformación:\n",
    "\n",
    "$$x=\\mu+[\\Gamma \\Lambda^{1/2}] [z] \\Lambda^{1/2} = diag(\\sqrt{\\lambda_1},...,sqrt{\\lambda_p})$$\n",
    "\n",
    "c) Con las matrices de covarianzas por hembas y machos, use el resultado del inciso anterior para generar datos sintéticos que simulen ser observaciones de cada sexo, luego realice las matrices de dispersiones con marcadores por separado para verificar que se han podido generar datos sintéticos con las mismas características de los datos originales reales.\n",
    "\n",
    "d) Use los datos anteriores para detectar especimenes reales atípicos usando el método de la elipse, visualizando con un marcador especial en las matrices de dispersiones. Recuerde que esto es tanto para hembras como para machos por separado cada elipse.\n",
    "\n",
    "\n",
    "**SOLUCIÓN**"
   ]
  },
  {
   "cell_type": "code",
   "execution_count": null,
   "metadata": {
    "id": "vkdvtuFW2p1k"
   },
   "outputs": [],
   "source": []
  }
 ],
 "metadata": {
  "colab": {
   "authorship_tag": "ABX9TyNr660NJ1d/T4/UAdbKPXOI",
   "mount_file_id": "1GKWzRAjAjkOqSMM3NYjFssCoJPcMg5he",
   "provenance": [
    {
     "file_id": "1p0Ir865cA88RSBV4xaJsAB4C10lcCyMh",
     "timestamp": 1710653512609
    }
   ]
  },
  "kernelspec": {
   "display_name": "Python 3 (ipykernel)",
   "language": "python",
   "name": "python3"
  },
  "language_info": {
   "codemirror_mode": {
    "name": "ipython",
    "version": 3
   },
   "file_extension": ".py",
   "mimetype": "text/x-python",
   "name": "python",
   "nbconvert_exporter": "python",
   "pygments_lexer": "ipython3",
   "version": "3.11.1"
  }
 },
 "nbformat": 4,
 "nbformat_minor": 4
}
