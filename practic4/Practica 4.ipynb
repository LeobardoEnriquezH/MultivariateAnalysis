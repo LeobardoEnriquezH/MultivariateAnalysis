{
 "cells": [
  {
   "cell_type": "code",
   "execution_count": 1,
   "id": "635c1d4a",
   "metadata": {},
   "outputs": [],
   "source": [
    "#importamos las librerias que vamos a utilizar\n",
    "import pandas as pd\n",
    "import numpy as np\n",
    "import matplotlib.pyplot as plt\n",
    "\n",
    "from sklearn.impute import KNNImputer\n",
    "from sklearn. decomposition import PCA\n",
    "from sklearn.preprocessing import LabelEncoder\n",
    "\n"
   ]
  },
  {
   "cell_type": "code",
   "execution_count": 2,
   "id": "7ef833c0",
   "metadata": {},
   "outputs": [],
   "source": [
    "#Ahora cargamos los datos que vamos a utilizar\n",
    "data = pd.read_csv(\"costumer-segmentation.csv\")\n",
    "#vamos a eliminar la columna segmentation\n",
    "data = data.drop([\"Segmentation\"], axis = 'columns')"
   ]
  },
  {
   "cell_type": "code",
   "execution_count": 3,
   "id": "2109b100",
   "metadata": {},
   "outputs": [],
   "source": [
    "#vamos a quitar lo que no nos sirva de la base de datos \n",
    "data.drop([\"ID\"],axis = 'columns', inplace = True)"
   ]
  },
  {
   "cell_type": "code",
   "execution_count": 4,
   "id": "4e81ff3f",
   "metadata": {},
   "outputs": [
    {
     "data": {
      "text/html": [
       "<div>\n",
       "<style scoped>\n",
       "    .dataframe tbody tr th:only-of-type {\n",
       "        vertical-align: middle;\n",
       "    }\n",
       "\n",
       "    .dataframe tbody tr th {\n",
       "        vertical-align: top;\n",
       "    }\n",
       "\n",
       "    .dataframe thead th {\n",
       "        text-align: right;\n",
       "    }\n",
       "</style>\n",
       "<table border=\"1\" class=\"dataframe\">\n",
       "  <thead>\n",
       "    <tr style=\"text-align: right;\">\n",
       "      <th></th>\n",
       "      <th>Gender</th>\n",
       "      <th>Ever_Married</th>\n",
       "      <th>Age</th>\n",
       "      <th>Graduated</th>\n",
       "      <th>Profession</th>\n",
       "      <th>Work_Experience</th>\n",
       "      <th>Spending_Score</th>\n",
       "      <th>Family_Size</th>\n",
       "      <th>Var_1</th>\n",
       "    </tr>\n",
       "  </thead>\n",
       "  <tbody>\n",
       "    <tr>\n",
       "      <th>0</th>\n",
       "      <td>Male</td>\n",
       "      <td>No</td>\n",
       "      <td>22</td>\n",
       "      <td>No</td>\n",
       "      <td>Healthcare</td>\n",
       "      <td>1.0</td>\n",
       "      <td>Low</td>\n",
       "      <td>4.0</td>\n",
       "      <td>Cat_4</td>\n",
       "    </tr>\n",
       "    <tr>\n",
       "      <th>1</th>\n",
       "      <td>Female</td>\n",
       "      <td>Yes</td>\n",
       "      <td>38</td>\n",
       "      <td>Yes</td>\n",
       "      <td>Engineer</td>\n",
       "      <td>NaN</td>\n",
       "      <td>Average</td>\n",
       "      <td>3.0</td>\n",
       "      <td>Cat_4</td>\n",
       "    </tr>\n",
       "    <tr>\n",
       "      <th>2</th>\n",
       "      <td>Female</td>\n",
       "      <td>Yes</td>\n",
       "      <td>67</td>\n",
       "      <td>Yes</td>\n",
       "      <td>Engineer</td>\n",
       "      <td>1.0</td>\n",
       "      <td>Low</td>\n",
       "      <td>1.0</td>\n",
       "      <td>Cat_6</td>\n",
       "    </tr>\n",
       "    <tr>\n",
       "      <th>3</th>\n",
       "      <td>Male</td>\n",
       "      <td>Yes</td>\n",
       "      <td>67</td>\n",
       "      <td>Yes</td>\n",
       "      <td>Lawyer</td>\n",
       "      <td>0.0</td>\n",
       "      <td>High</td>\n",
       "      <td>2.0</td>\n",
       "      <td>Cat_6</td>\n",
       "    </tr>\n",
       "    <tr>\n",
       "      <th>4</th>\n",
       "      <td>Female</td>\n",
       "      <td>Yes</td>\n",
       "      <td>40</td>\n",
       "      <td>Yes</td>\n",
       "      <td>Entertainment</td>\n",
       "      <td>NaN</td>\n",
       "      <td>High</td>\n",
       "      <td>6.0</td>\n",
       "      <td>Cat_6</td>\n",
       "    </tr>\n",
       "  </tbody>\n",
       "</table>\n",
       "</div>"
      ],
      "text/plain": [
       "   Gender Ever_Married  Age Graduated     Profession  Work_Experience  \\\n",
       "0    Male           No   22        No     Healthcare              1.0   \n",
       "1  Female          Yes   38       Yes       Engineer              NaN   \n",
       "2  Female          Yes   67       Yes       Engineer              1.0   \n",
       "3    Male          Yes   67       Yes         Lawyer              0.0   \n",
       "4  Female          Yes   40       Yes  Entertainment              NaN   \n",
       "\n",
       "  Spending_Score  Family_Size  Var_1  \n",
       "0            Low          4.0  Cat_4  \n",
       "1        Average          3.0  Cat_4  \n",
       "2            Low          1.0  Cat_6  \n",
       "3           High          2.0  Cat_6  \n",
       "4           High          6.0  Cat_6  "
      ]
     },
     "execution_count": 4,
     "metadata": {},
     "output_type": "execute_result"
    }
   ],
   "source": [
    "data.head()"
   ]
  },
  {
   "cell_type": "markdown",
   "id": "08e71559",
   "metadata": {},
   "source": [
    "Ya que se quitaron las columnas que no nos van a servir para el analisis vamos a hacer un analisis exploratorio de los datos, primero viendo si existen datos faltantes, luego de esa revision veremos si las variables numericas presentas outliers de los que nos debamos preocupar o en su defecto identificar si solo se trata de valores extremos que no afectaran al analisis."
   ]
  },
  {
   "cell_type": "code",
   "execution_count": 5,
   "id": "f0d3be2d",
   "metadata": {},
   "outputs": [
    {
     "data": {
      "text/plain": [
       "Gender               0\n",
       "Ever_Married       140\n",
       "Age                  0\n",
       "Graduated           78\n",
       "Profession         124\n",
       "Work_Experience    829\n",
       "Spending_Score       0\n",
       "Family_Size        335\n",
       "Var_1               76\n",
       "dtype: int64"
      ]
     },
     "execution_count": 5,
     "metadata": {},
     "output_type": "execute_result"
    }
   ],
   "source": [
    "#datos faltantes\n",
    "data.isnull().sum()"
   ]
  },
  {
   "cell_type": "markdown",
   "id": "72b08daf",
   "metadata": {},
   "source": [
    "Con lo anterior obtuvimos el total de valores faltantes para cada variable donde se tiene que para las columnas \"Gender\",\"Age\",\"Spending_Score\" no se tiene ningun valor faltante mientras que las demas variables si presentan valores faltantes siendo \"Work_Eperience\" la que mas presenta este problema. "
   ]
  },
  {
   "cell_type": "code",
   "execution_count": 6,
   "id": "5cac1edc",
   "metadata": {},
   "outputs": [],
   "source": [
    "#Ahora vamos a transformar las variables categoricas a numericas para poder trabajarlas\n",
    "pd.options.mode.copy_on_write = True\n",
    "data_cat = data[[\"Gender\",\"Ever_Married\",\"Graduated\",\"Profession\",\"Spending_Score\",\"Var_1\"]]\n",
    "encoders = {}\n",
    "for col_name in data_cat.columns:\n",
    "    series = data_cat[col_name]\n",
    "    label_encoder = LabelEncoder()\n",
    "    data_cat[col_name] = pd.Series(label_encoder.fit_transform(series[series.notnull()]),\n",
    "    index = series[series.notnull()].index)\n",
    "    encoders[col_name] = label_encoder"
   ]
  },
  {
   "cell_type": "code",
   "execution_count": 7,
   "id": "a4ae0d32",
   "metadata": {},
   "outputs": [
    {
     "name": "stderr",
     "output_type": "stream",
     "text": [
      "C:\\Users\\Leobardo\\AppData\\Local\\Temp\\ipykernel_20724\\3758409191.py:6: DeprecationWarning: In a future version, `df.iloc[:, i] = newvals` will attempt to set the values inplace instead of always setting a new array. To retain the old behavior, use either `df[df.columns[i]] = newvals` or, if columns are non-unique, `df.isetitem(i, newvals)`\n",
      "  data_num.loc[:] = imputer.fit_transform(data_num)\n",
      "C:\\Users\\Leobardo\\AppData\\Local\\Temp\\ipykernel_20724\\3758409191.py:9: DeprecationWarning: In a future version, `df.iloc[:, i] = newvals` will attempt to set the values inplace instead of always setting a new array. To retain the old behavior, use either `df[df.columns[i]] = newvals` or, if columns are non-unique, `df.isetitem(i, newvals)`\n",
      "  data_cat.loc[:] = imputer.fit_transform(data_cat)\n"
     ]
    }
   ],
   "source": [
    "# para poder manejar bien los datos vamos a usar knn para ambos casos de los datos, i.e.,\n",
    "#para los categorico y para los numericos\n",
    "pd.options.mode.copy_on_write = True\n",
    "data_num = data[['Age','Work_Experience','Family_Size']]\n",
    "imputer = KNNImputer(n_neighbors = 5)\n",
    "data_num.loc[:] = imputer.fit_transform(data_num)\n",
    "#para los categoricos\n",
    "imputer = KNNImputer(n_neighbors = 1)\n",
    "data_cat.loc[:] = imputer.fit_transform(data_cat)\n",
    "# ya que se procesaron los datos vamos a concatenarlos \n",
    "data = pd.concat([data_cat,data_num], axis = 1)"
   ]
  },
  {
   "cell_type": "code",
   "execution_count": 8,
   "id": "c3bf12cc",
   "metadata": {},
   "outputs": [
    {
     "data": {
      "text/plain": [
       "(8068, 2)"
      ]
     },
     "execution_count": 8,
     "metadata": {},
     "output_type": "execute_result"
    }
   ],
   "source": [
    "#Ahora ya con los datos procesados vamos a utilizar PCA \n",
    "pca = PCA(2)\n",
    "#procedemos a transformar la informacion \n",
    "df = pca.fit_transform(data)\n",
    "df.shape"
   ]
  },
  {
   "cell_type": "markdown",
   "id": "c3210a68",
   "metadata": {},
   "source": [
    "Por la naturaleza de los datos decidimos que vamos a uitilizar el metodo de K-prototypes\n",
    "para hacer la clusterizacion, asi que tendremos que procesar la informacion de forma adecuada para lograr hacer esto."
   ]
  },
  {
   "cell_type": "code",
   "execution_count": 9,
   "id": "595fc44c",
   "metadata": {},
   "outputs": [],
   "source": [
    "# vamos a decodificar la informacion\n",
    "for i in data_cat.columns:\n",
    "    data[i] = data[i].astype(int)\n",
    "for col_name in data_cat.columns:\n",
    "    data[col_name] = encoders[col_name]. inverse_transform(data[col_name])"
   ]
  },
  {
   "cell_type": "code",
   "execution_count": 10,
   "id": "7228689f",
   "metadata": {},
   "outputs": [
    {
     "name": "stdout",
     "output_type": "stream",
     "text": [
      "<class 'pandas.core.frame.DataFrame'>\n",
      "RangeIndex: 8068 entries, 0 to 8067\n",
      "Data columns (total 9 columns):\n",
      " #   Column           Non-Null Count  Dtype  \n",
      "---  ------           --------------  -----  \n",
      " 0   Gender           8068 non-null   object \n",
      " 1   Ever_Married     8068 non-null   object \n",
      " 2   Graduated        8068 non-null   object \n",
      " 3   Profession       8068 non-null   object \n",
      " 4   Spending_Score   8068 non-null   object \n",
      " 5   Var_1            8068 non-null   object \n",
      " 6   Age              8068 non-null   float64\n",
      " 7   Work_Experience  8068 non-null   float64\n",
      " 8   Family_Size      8068 non-null   float64\n",
      "dtypes: float64(3), object(6)\n",
      "memory usage: 567.4+ KB\n"
     ]
    }
   ],
   "source": [
    "data.info()"
   ]
  },
  {
   "cell_type": "markdown",
   "id": "8425567f",
   "metadata": {},
   "source": [
    "Ya que se hizo el preprocesamiento de los datos procederemos a implementar el algoritmo de clusterizacion K-prototypes."
   ]
  },
  {
   "cell_type": "code",
   "execution_count": 11,
   "id": "7823b806",
   "metadata": {},
   "outputs": [
    {
     "name": "stdout",
     "output_type": "stream",
     "text": [
      "Columnas categoricas:['Gender', 'Ever_Married', 'Graduated', 'Profession', 'Spending_Score', 'Var_1']\n",
      "Posicion de columnas categoricas:[0, 1, 2, 3, 4, 5]\n"
     ]
    }
   ],
   "source": [
    "# ahora vamos a tomar la poscion de las variables categoricas\n",
    "columns_position = [data.columns.get_loc(col) for col in list(data.select_dtypes('object').columns)]\n",
    "\n",
    "print('Columnas categoricas:{}'.format(list(data.select_dtypes('object').columns)))\n",
    "print('Posicion de columnas categoricas:{}'.format(columns_position))"
   ]
  },
  {
   "cell_type": "code",
   "execution_count": 12,
   "id": "d2cf6e06",
   "metadata": {},
   "outputs": [],
   "source": [
    "# ya que sabemos la posicion y nombre de las variables de tipo categoricas vamos a convertir \n",
    "#el data frame en una matriz\n",
    "matrix = data.to_numpy()"
   ]
  },
  {
   "cell_type": "markdown",
   "id": "d3415436",
   "metadata": {},
   "source": [
    "Ya con la informacion transformada a formato de matriz vamos a emplear el algoritmo, pero para esto debemos mencionar que utilizaremos el metodo del codo o Elbow para determinar el numero k de clusters."
   ]
  },
  {
   "cell_type": "code",
   "execution_count": 13,
   "id": "145a1b78-b3ad-4844-b992-6b36811af129",
   "metadata": {},
   "outputs": [],
   "source": [
    "#pip install kmodes"
   ]
  },
  {
   "cell_type": "code",
   "execution_count": 17,
   "id": "42bfbcec",
   "metadata": {},
   "outputs": [
    {
     "name": "stdout",
     "output_type": "stream",
     "text": [
      "Initialization of cluster: 1\n",
      "Initialization of cluster: 2\n",
      "Initialization of cluster: 3\n",
      "Initialization of cluster: 4\n",
      "Initialization of cluster: 5\n",
      "Initialization of cluster: 6\n",
      "Initialization of cluster: 7\n",
      "Initialization of cluster: 8\n",
      "Initialization of cluster: 9\n"
     ]
    },
    {
     "data": {
      "image/png": "[encoded data removed]",
      "text/plain": [
       "<Figure size 640x480 with 1 Axes>"
      ]
     },
     "metadata": {},
     "output_type": "display_data"
    }
   ],
   "source": [
    "from kmodes.kprototypes import KPrototypes\n",
    "import matplotlib.pyplot as plt\n",
    "\n",
    "cost = []\n",
    "for cluster in range(1, 10):\n",
    "    try:\n",
    "        kprototype = KPrototypes(n_clusters=cluster, init=\"Huang\", n_jobs=-1, random_state=0)\n",
    "        kprototype.fit_predict(matrix, categorical=columns_position)\n",
    "        cost.append(kprototype.cost_)\n",
    "        print('Initialization of cluster: {}'.format(cluster))\n",
    "    except Exception as e:\n",
    "        print(e)\n",
    "        break\n",
    "\n",
    "plt.plot(range(1, len(cost) + 1), cost)\n",
    "plt.xlabel('K')\n",
    "plt.ylabel('Cost')\n",
    "plt.title('Elbow Method for Optimal K')\n",
    "plt.show()"
   ]
  },
  {
   "cell_type": "code",
   "execution_count": 15,
   "id": "424feb42-3444-44dd-93ac-2929f0d6ada7",
   "metadata": {},
   "outputs": [],
   "source": [
    "#pip install kneed"
   ]
  },
  {
   "cell_type": "code",
   "execution_count": 18,
   "id": "0cdeba6a",
   "metadata": {},
   "outputs": [
    {
     "name": "stdout",
     "output_type": "stream",
     "text": [
      "Elbow para k =  3 clusters\n"
     ]
    }
   ],
   "source": [
    "from kneed import KneeLocator\n",
    "cost_knee3 = KneeLocator(x = range(1,10), y = cost, S = 0.1, curve = 'convex',\n",
    "                         direction = 'decreasing', online = True)\n",
    "k_cost3 = cost_knee3.elbow\n",
    "print('Elbow para k = ', f'{k_cost3:.0f} clusters')\n"
   ]
  },
  {
   "cell_type": "code",
   "execution_count": 19,
   "id": "5ef81bdb",
   "metadata": {},
   "outputs": [],
   "source": [
    "#con los resultados obtenidos vamos a utilizar k = 3\n",
    "kprototype = KPrototypes(n_jobs = -1, n_clusters = 3, init = 'Huang', random_state = 0)\n",
    "data['clusters'] = kprototype.fit_predict(matrix, categorical = columns_position)"
   ]
  },
  {
   "cell_type": "markdown",
   "id": "ca569aae",
   "metadata": {},
   "source": [
    "Ya que obtuvimos el valor K para el numero de clusters los graficaremos para ver como quedaron."
   ]
  },
  {
   "cell_type": "code",
   "execution_count": 20,
   "id": "d7672728",
   "metadata": {},
   "outputs": [
    {
     "name": "stdout",
     "output_type": "stream",
     "text": [
      "[1 2 0 ... 1 1 2]\n"
     ]
    }
   ],
   "source": [
    "label = kprototype.fit_predict(matrix, categorical = columns_position)\n",
    "print(label)"
   ]
  },
  {
   "cell_type": "code",
   "execution_count": 21,
   "id": "be310810",
   "metadata": {},
   "outputs": [
    {
     "name": "stderr",
     "output_type": "stream",
     "text": [
      "No artists with labels found to put in legend.  Note that artists whose label start with an underscore are ignored when legend() is called with no argument.\n"
     ]
    },
    {
     "data": {
      "text/plain": [
       "<function matplotlib.pyplot.show(close=None, block=None)>"
      ]
     },
     "execution_count": 21,
     "metadata": {},
     "output_type": "execute_result"
    },
    {
     "data": {
      "image/png": "[encoded data removed]",
      "text/plain": [
       "<Figure size 640x480 with 1 Axes>"
      ]
     },
     "metadata": {},
     "output_type": "display_data"
    }
   ],
   "source": [
    "labels_unicos = np.unique(label)\n",
    "#graficamos los resultados\n",
    "for i in labels_unicos:\n",
    "    plt.scatter(df[label == i, 0], df[label == i, 1])\n",
    "plt.legend()\n",
    "plt.show"
   ]
  },
  {
   "cell_type": "markdown",
   "id": "628153aa",
   "metadata": {},
   "source": [
    "Ya que se obtuvieronlos clusters vamos a analizar un poco estos con el fin de ver que nos aportan."
   ]
  },
  {
   "cell_type": "code",
   "execution_count": 22,
   "id": "8f0d765a",
   "metadata": {},
   "outputs": [
    {
     "data": {
      "text/plain": [
       "Text(0.5, 1.0, 'Clusters')"
      ]
     },
     "execution_count": 22,
     "metadata": {},
     "output_type": "execute_result"
    },
    {
     "data": {
      "image/png": "[encoded data removed]",
      "text/plain": [
       "<Figure size 640x480 with 1 Axes>"
      ]
     },
     "metadata": {},
     "output_type": "display_data"
    }
   ],
   "source": [
    "data['clusters'].value_counts().plot(kind = 'bar')\n",
    "plt.title('Clusters')"
   ]
  },
  {
   "cell_type": "markdown",
   "id": "ad277448",
   "metadata": {},
   "source": [
    "Podemos observar que de los 3 clusters el mas importante fue el segundo, seguido del primer cluster y por ultimo el cluster 0."
   ]
  },
  {
   "cell_type": "code",
   "execution_count": 23,
   "id": "9cc79cdd",
   "metadata": {},
   "outputs": [
    {
     "name": "stderr",
     "output_type": "stream",
     "text": [
      "C:\\Users\\Leobardo\\AppData\\Local\\Temp\\ipykernel_20724\\229690348.py:2: FutureWarning: The default value of numeric_only in DataFrameGroupBy.mean is deprecated. In a future version, numeric_only will default to False. Either specify numeric_only or select only columns which should be valid for the function.\n",
      "  data.groupby(['clusters']).mean() #media de cada cluster por variable numerica\n"
     ]
    },
    {
     "data": {
      "text/html": [
       "<div>\n",
       "<style scoped>\n",
       "    .dataframe tbody tr th:only-of-type {\n",
       "        vertical-align: middle;\n",
       "    }\n",
       "\n",
       "    .dataframe tbody tr th {\n",
       "        vertical-align: top;\n",
       "    }\n",
       "\n",
       "    .dataframe thead th {\n",
       "        text-align: right;\n",
       "    }\n",
       "</style>\n",
       "<table border=\"1\" class=\"dataframe\">\n",
       "  <thead>\n",
       "    <tr style=\"text-align: right;\">\n",
       "      <th></th>\n",
       "      <th>Age</th>\n",
       "      <th>Work_Experience</th>\n",
       "      <th>Family_Size</th>\n",
       "    </tr>\n",
       "    <tr>\n",
       "      <th>clusters</th>\n",
       "      <th></th>\n",
       "      <th></th>\n",
       "      <th></th>\n",
       "    </tr>\n",
       "  </thead>\n",
       "  <tbody>\n",
       "    <tr>\n",
       "      <th>0</th>\n",
       "      <td>70.184442</td>\n",
       "      <td>1.365872</td>\n",
       "      <td>2.262861</td>\n",
       "    </tr>\n",
       "    <tr>\n",
       "      <th>1</th>\n",
       "      <td>27.856916</td>\n",
       "      <td>3.180330</td>\n",
       "      <td>3.322081</td>\n",
       "    </tr>\n",
       "    <tr>\n",
       "      <th>2</th>\n",
       "      <td>45.458158</td>\n",
       "      <td>2.732992</td>\n",
       "      <td>2.695485</td>\n",
       "    </tr>\n",
       "  </tbody>\n",
       "</table>\n",
       "</div>"
      ],
      "text/plain": [
       "                Age  Work_Experience  Family_Size\n",
       "clusters                                         \n",
       "0         70.184442         1.365872     2.262861\n",
       "1         27.856916         3.180330     3.322081\n",
       "2         45.458158         2.732992     2.695485"
      ]
     },
     "execution_count": 23,
     "metadata": {},
     "output_type": "execute_result"
    }
   ],
   "source": [
    "#Estadisticas\n",
    "data.groupby(['clusters']).mean() #media de cada cluster por variable numerica"
   ]
  },
  {
   "cell_type": "code",
   "execution_count": 24,
   "id": "6973736b",
   "metadata": {},
   "outputs": [
    {
     "data": {
      "text/html": [
       "<div>\n",
       "<style scoped>\n",
       "    .dataframe tbody tr th:only-of-type {\n",
       "        vertical-align: middle;\n",
       "    }\n",
       "\n",
       "    .dataframe tbody tr th {\n",
       "        vertical-align: top;\n",
       "    }\n",
       "\n",
       "    .dataframe thead th {\n",
       "        text-align: right;\n",
       "    }\n",
       "</style>\n",
       "<table border=\"1\" class=\"dataframe\">\n",
       "  <thead>\n",
       "    <tr style=\"text-align: right;\">\n",
       "      <th></th>\n",
       "      <th>Gender</th>\n",
       "      <th>Ever_Married</th>\n",
       "      <th>Profession</th>\n",
       "      <th>Spending_Score</th>\n",
       "      <th>Var_1</th>\n",
       "    </tr>\n",
       "    <tr>\n",
       "      <th>clusters</th>\n",
       "      <th></th>\n",
       "      <th></th>\n",
       "      <th></th>\n",
       "      <th></th>\n",
       "      <th></th>\n",
       "    </tr>\n",
       "  </thead>\n",
       "  <tbody>\n",
       "    <tr>\n",
       "      <th>0</th>\n",
       "      <td>Male</td>\n",
       "      <td>Yes</td>\n",
       "      <td>Lawyer</td>\n",
       "      <td>Low</td>\n",
       "      <td>Cat_6</td>\n",
       "    </tr>\n",
       "    <tr>\n",
       "      <th>1</th>\n",
       "      <td>Male</td>\n",
       "      <td>No</td>\n",
       "      <td>Healthcare</td>\n",
       "      <td>Low</td>\n",
       "      <td>Cat_6</td>\n",
       "    </tr>\n",
       "    <tr>\n",
       "      <th>2</th>\n",
       "      <td>Male</td>\n",
       "      <td>Yes</td>\n",
       "      <td>Artist</td>\n",
       "      <td>Low</td>\n",
       "      <td>Cat_6</td>\n",
       "    </tr>\n",
       "  </tbody>\n",
       "</table>\n",
       "</div>"
      ],
      "text/plain": [
       "         Gender Ever_Married  Profession Spending_Score  Var_1\n",
       "clusters                                                      \n",
       "0          Male          Yes      Lawyer            Low  Cat_6\n",
       "1          Male           No  Healthcare            Low  Cat_6\n",
       "2          Male          Yes      Artist            Low  Cat_6"
      ]
     },
     "execution_count": 24,
     "metadata": {},
     "output_type": "execute_result"
    }
   ],
   "source": [
    "data.groupby(['clusters']).agg(lambda x: pd.Series.mode(x).iat[0])[['Gender','Ever_Married','Profession','Spending_Score','Var_1']]"
   ]
  },
  {
   "cell_type": "code",
   "execution_count": null,
   "id": "8fa8085d-bf90-45e0-a893-1f1a44b46574",
   "metadata": {},
   "outputs": [],
   "source": []
  }
 ],
 "metadata": {
  "kernelspec": {
   "display_name": "Python 3 (ipykernel)",
   "language": "python",
   "name": "python3"
  },
  "language_info": {
   "codemirror_mode": {
    "name": "ipython",
    "version": 3
   },
   "file_extension": ".py",
   "mimetype": "text/x-python",
   "name": "python",
   "nbconvert_exporter": "python",
   "pygments_lexer": "ipython3",
   "version": "3.11.1"
  }
 },
 "nbformat": 4,
 "nbformat_minor": 5
}
